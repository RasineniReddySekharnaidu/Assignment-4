{
 "cells": [
  {
   "cell_type": "code",
   "execution_count": 1,
   "id": "f6f67725-34e5-4d12-8500-f55706ff3a57",
   "metadata": {},
   "outputs": [],
   "source": [
    "import warnings\n",
    "warnings.simplefilter(\"ignore\")"
   ]
  },
  {
   "cell_type": "code",
   "execution_count": 2,
   "id": "f4792876-0ce2-4c64-b16c-9e74578fb3a1",
   "metadata": {},
   "outputs": [],
   "source": [
    "import numpy as np\n",
    "import pandas as pd"
   ]
  },
  {
   "cell_type": "code",
   "execution_count": 3,
   "id": "e6f06923-68ce-41fb-8457-1227f821d92a",
   "metadata": {},
   "outputs": [],
   "source": [
    "import matplotlib.pyplot as plt\n",
    "import seaborn as sns\n",
    "%matplotlib inline"
   ]
  },
  {
   "cell_type": "code",
   "execution_count": 4,
   "id": "fc26fe4c-38c3-4fe1-9b83-e0747f201e4f",
   "metadata": {},
   "outputs": [],
   "source": [
    "df=pd.read_csv(\"nba_Player data.csv\")"
   ]
  },
  {
   "cell_type": "code",
   "execution_count": 5,
   "id": "ef6fd09d-29ac-44b7-acb8-21573a66abe5",
   "metadata": {},
   "outputs": [
    {
     "data": {
      "text/html": [
       "<div>\n",
       "<style scoped>\n",
       "    .dataframe tbody tr th:only-of-type {\n",
       "        vertical-align: middle;\n",
       "    }\n",
       "\n",
       "    .dataframe tbody tr th {\n",
       "        vertical-align: top;\n",
       "    }\n",
       "\n",
       "    .dataframe thead th {\n",
       "        text-align: right;\n",
       "    }\n",
       "</style>\n",
       "<table border=\"1\" class=\"dataframe\">\n",
       "  <thead>\n",
       "    <tr style=\"text-align: right;\">\n",
       "      <th></th>\n",
       "      <th>Player</th>\n",
       "      <th>Position</th>\n",
       "      <th>Age</th>\n",
       "      <th>Games</th>\n",
       "      <th>Minutes Played</th>\n",
       "      <th>True Shooting(%)</th>\n",
       "      <th>Threepoint Attempt rate</th>\n",
       "      <th>Free throw attempt rate</th>\n",
       "      <th>Player Efficiency Rating</th>\n",
       "    </tr>\n",
       "  </thead>\n",
       "  <tbody>\n",
       "    <tr>\n",
       "      <th>0</th>\n",
       "      <td>Precious Achiuwa</td>\n",
       "      <td>PF</td>\n",
       "      <td>21</td>\n",
       "      <td>28</td>\n",
       "      <td>408.0</td>\n",
       "      <td>0.599</td>\n",
       "      <td>0.000</td>\n",
       "      <td>0.541</td>\n",
       "      <td>15.1</td>\n",
       "    </tr>\n",
       "    <tr>\n",
       "      <th>1</th>\n",
       "      <td>Jaylen Adams</td>\n",
       "      <td>PG</td>\n",
       "      <td>24</td>\n",
       "      <td>6</td>\n",
       "      <td>17.0</td>\n",
       "      <td>0.125</td>\n",
       "      <td>0.250</td>\n",
       "      <td>0.000</td>\n",
       "      <td>-6.9</td>\n",
       "    </tr>\n",
       "    <tr>\n",
       "      <th>2</th>\n",
       "      <td>Steven Adams</td>\n",
       "      <td>C</td>\n",
       "      <td>27</td>\n",
       "      <td>27</td>\n",
       "      <td>760.0</td>\n",
       "      <td>0.592</td>\n",
       "      <td>NaN</td>\n",
       "      <td>0.397</td>\n",
       "      <td>15.9</td>\n",
       "    </tr>\n",
       "    <tr>\n",
       "      <th>3</th>\n",
       "      <td>Bam Adebayo</td>\n",
       "      <td>C</td>\n",
       "      <td>23</td>\n",
       "      <td>26</td>\n",
       "      <td>873.0</td>\n",
       "      <td>0.641</td>\n",
       "      <td>0.015</td>\n",
       "      <td>0.469</td>\n",
       "      <td>22.7</td>\n",
       "    </tr>\n",
       "    <tr>\n",
       "      <th>4</th>\n",
       "      <td>LaMarcus Aldridge</td>\n",
       "      <td>C</td>\n",
       "      <td>35</td>\n",
       "      <td>18</td>\n",
       "      <td>480.0</td>\n",
       "      <td>0.542</td>\n",
       "      <td>0.298</td>\n",
       "      <td>0.093</td>\n",
       "      <td>15.2</td>\n",
       "    </tr>\n",
       "    <tr>\n",
       "      <th>...</th>\n",
       "      <td>...</td>\n",
       "      <td>...</td>\n",
       "      <td>...</td>\n",
       "      <td>...</td>\n",
       "      <td>...</td>\n",
       "      <td>...</td>\n",
       "      <td>...</td>\n",
       "      <td>...</td>\n",
       "      <td>...</td>\n",
       "    </tr>\n",
       "    <tr>\n",
       "      <th>492</th>\n",
       "      <td>Delon Wright</td>\n",
       "      <td>SG</td>\n",
       "      <td>28</td>\n",
       "      <td>28</td>\n",
       "      <td>823.0</td>\n",
       "      <td>0.559</td>\n",
       "      <td>0.298</td>\n",
       "      <td>0.346</td>\n",
       "      <td>16.6</td>\n",
       "    </tr>\n",
       "    <tr>\n",
       "      <th>493</th>\n",
       "      <td>Thaddeus Young</td>\n",
       "      <td>PF</td>\n",
       "      <td>32</td>\n",
       "      <td>23</td>\n",
       "      <td>592.0</td>\n",
       "      <td>0.597</td>\n",
       "      <td>0.104</td>\n",
       "      <td>0.169</td>\n",
       "      <td>18.5</td>\n",
       "    </tr>\n",
       "    <tr>\n",
       "      <th>494</th>\n",
       "      <td>Trae Young</td>\n",
       "      <td>PG</td>\n",
       "      <td>22</td>\n",
       "      <td>26</td>\n",
       "      <td>901.0</td>\n",
       "      <td>0.598</td>\n",
       "      <td>0.349</td>\n",
       "      <td>0.577</td>\n",
       "      <td>22.9</td>\n",
       "    </tr>\n",
       "    <tr>\n",
       "      <th>495</th>\n",
       "      <td>Cody Zeller</td>\n",
       "      <td>C</td>\n",
       "      <td>28</td>\n",
       "      <td>15</td>\n",
       "      <td>361.0</td>\n",
       "      <td>0.569</td>\n",
       "      <td>0.133</td>\n",
       "      <td>0.242</td>\n",
       "      <td>18.2</td>\n",
       "    </tr>\n",
       "    <tr>\n",
       "      <th>496</th>\n",
       "      <td>Ivica Zubac</td>\n",
       "      <td>C</td>\n",
       "      <td>23</td>\n",
       "      <td>30</td>\n",
       "      <td>586.0</td>\n",
       "      <td>0.722</td>\n",
       "      <td>0.007</td>\n",
       "      <td>0.500</td>\n",
       "      <td>20.5</td>\n",
       "    </tr>\n",
       "  </tbody>\n",
       "</table>\n",
       "<p>497 rows × 9 columns</p>\n",
       "</div>"
      ],
      "text/plain": [
       "                Player Position  Age  Games  Minutes Played  True Shooting(%)  \\\n",
       "0     Precious Achiuwa       PF   21     28           408.0             0.599   \n",
       "1         Jaylen Adams       PG   24      6            17.0             0.125   \n",
       "2         Steven Adams        C   27     27           760.0             0.592   \n",
       "3          Bam Adebayo        C   23     26           873.0             0.641   \n",
       "4    LaMarcus Aldridge        C   35     18           480.0             0.542   \n",
       "..                 ...      ...  ...    ...             ...               ...   \n",
       "492       Delon Wright       SG   28     28           823.0             0.559   \n",
       "493     Thaddeus Young       PF   32     23           592.0             0.597   \n",
       "494         Trae Young       PG   22     26           901.0             0.598   \n",
       "495        Cody Zeller        C   28     15           361.0             0.569   \n",
       "496        Ivica Zubac        C   23     30           586.0             0.722   \n",
       "\n",
       "     Threepoint Attempt rate  Free throw attempt rate  \\\n",
       "0                      0.000                    0.541   \n",
       "1                      0.250                    0.000   \n",
       "2                        NaN                    0.397   \n",
       "3                      0.015                    0.469   \n",
       "4                      0.298                    0.093   \n",
       "..                       ...                      ...   \n",
       "492                    0.298                    0.346   \n",
       "493                    0.104                    0.169   \n",
       "494                    0.349                    0.577   \n",
       "495                    0.133                    0.242   \n",
       "496                    0.007                    0.500   \n",
       "\n",
       "     Player Efficiency Rating  \n",
       "0                        15.1  \n",
       "1                        -6.9  \n",
       "2                        15.9  \n",
       "3                        22.7  \n",
       "4                        15.2  \n",
       "..                        ...  \n",
       "492                      16.6  \n",
       "493                      18.5  \n",
       "494                      22.9  \n",
       "495                      18.2  \n",
       "496                      20.5  \n",
       "\n",
       "[497 rows x 9 columns]"
      ]
     },
     "execution_count": 5,
     "metadata": {},
     "output_type": "execute_result"
    }
   ],
   "source": [
    "df"
   ]
  },
  {
   "cell_type": "code",
   "execution_count": 6,
   "id": "7adb0224-a90f-489d-9088-6b324ab87ae2",
   "metadata": {},
   "outputs": [
    {
     "data": {
      "text/plain": [
       "(497, 9)"
      ]
     },
     "execution_count": 6,
     "metadata": {},
     "output_type": "execute_result"
    }
   ],
   "source": [
    "df.shape"
   ]
  },
  {
   "cell_type": "code",
   "execution_count": 7,
   "id": "e0362af3-8b80-4f36-b7a6-542c9534c153",
   "metadata": {},
   "outputs": [
    {
     "data": {
      "text/html": [
       "<div>\n",
       "<style scoped>\n",
       "    .dataframe tbody tr th:only-of-type {\n",
       "        vertical-align: middle;\n",
       "    }\n",
       "\n",
       "    .dataframe tbody tr th {\n",
       "        vertical-align: top;\n",
       "    }\n",
       "\n",
       "    .dataframe thead th {\n",
       "        text-align: right;\n",
       "    }\n",
       "</style>\n",
       "<table border=\"1\" class=\"dataframe\">\n",
       "  <thead>\n",
       "    <tr style=\"text-align: right;\">\n",
       "      <th></th>\n",
       "      <th>Player</th>\n",
       "      <th>Position</th>\n",
       "      <th>Age</th>\n",
       "      <th>Games</th>\n",
       "      <th>Minutes Played</th>\n",
       "      <th>True Shooting(%)</th>\n",
       "      <th>Threepoint Attempt rate</th>\n",
       "      <th>Free throw attempt rate</th>\n",
       "      <th>Player Efficiency Rating</th>\n",
       "    </tr>\n",
       "  </thead>\n",
       "  <tbody>\n",
       "    <tr>\n",
       "      <th>0</th>\n",
       "      <td>Precious Achiuwa</td>\n",
       "      <td>PF</td>\n",
       "      <td>21</td>\n",
       "      <td>28</td>\n",
       "      <td>408.0</td>\n",
       "      <td>0.599</td>\n",
       "      <td>0.000</td>\n",
       "      <td>0.541</td>\n",
       "      <td>15.1</td>\n",
       "    </tr>\n",
       "    <tr>\n",
       "      <th>1</th>\n",
       "      <td>Jaylen Adams</td>\n",
       "      <td>PG</td>\n",
       "      <td>24</td>\n",
       "      <td>6</td>\n",
       "      <td>17.0</td>\n",
       "      <td>0.125</td>\n",
       "      <td>0.250</td>\n",
       "      <td>0.000</td>\n",
       "      <td>-6.9</td>\n",
       "    </tr>\n",
       "    <tr>\n",
       "      <th>2</th>\n",
       "      <td>Steven Adams</td>\n",
       "      <td>C</td>\n",
       "      <td>27</td>\n",
       "      <td>27</td>\n",
       "      <td>760.0</td>\n",
       "      <td>0.592</td>\n",
       "      <td>NaN</td>\n",
       "      <td>0.397</td>\n",
       "      <td>15.9</td>\n",
       "    </tr>\n",
       "    <tr>\n",
       "      <th>3</th>\n",
       "      <td>Bam Adebayo</td>\n",
       "      <td>C</td>\n",
       "      <td>23</td>\n",
       "      <td>26</td>\n",
       "      <td>873.0</td>\n",
       "      <td>0.641</td>\n",
       "      <td>0.015</td>\n",
       "      <td>0.469</td>\n",
       "      <td>22.7</td>\n",
       "    </tr>\n",
       "    <tr>\n",
       "      <th>4</th>\n",
       "      <td>LaMarcus Aldridge</td>\n",
       "      <td>C</td>\n",
       "      <td>35</td>\n",
       "      <td>18</td>\n",
       "      <td>480.0</td>\n",
       "      <td>0.542</td>\n",
       "      <td>0.298</td>\n",
       "      <td>0.093</td>\n",
       "      <td>15.2</td>\n",
       "    </tr>\n",
       "    <tr>\n",
       "      <th>5</th>\n",
       "      <td>Ty-Shon Alexander</td>\n",
       "      <td>SG</td>\n",
       "      <td>22</td>\n",
       "      <td>3</td>\n",
       "      <td>8.0</td>\n",
       "      <td>0.000</td>\n",
       "      <td>0.333</td>\n",
       "      <td>0.000</td>\n",
       "      <td>-11.9</td>\n",
       "    </tr>\n",
       "    <tr>\n",
       "      <th>6</th>\n",
       "      <td>Nickeil Alexander-Walker</td>\n",
       "      <td>SG</td>\n",
       "      <td>22</td>\n",
       "      <td>23</td>\n",
       "      <td>441.0</td>\n",
       "      <td>0.502</td>\n",
       "      <td>0.463</td>\n",
       "      <td>0.170</td>\n",
       "      <td>12.0</td>\n",
       "    </tr>\n",
       "    <tr>\n",
       "      <th>7</th>\n",
       "      <td>Grayson Allen</td>\n",
       "      <td>SG</td>\n",
       "      <td>25</td>\n",
       "      <td>19</td>\n",
       "      <td>454.0</td>\n",
       "      <td>0.630</td>\n",
       "      <td>0.721</td>\n",
       "      <td>0.264</td>\n",
       "      <td>14.0</td>\n",
       "    </tr>\n",
       "  </tbody>\n",
       "</table>\n",
       "</div>"
      ],
      "text/plain": [
       "                     Player Position  Age  Games  Minutes Played  \\\n",
       "0          Precious Achiuwa       PF   21     28           408.0   \n",
       "1              Jaylen Adams       PG   24      6            17.0   \n",
       "2              Steven Adams        C   27     27           760.0   \n",
       "3               Bam Adebayo        C   23     26           873.0   \n",
       "4         LaMarcus Aldridge        C   35     18           480.0   \n",
       "5         Ty-Shon Alexander       SG   22      3             8.0   \n",
       "6  Nickeil Alexander-Walker       SG   22     23           441.0   \n",
       "7             Grayson Allen       SG   25     19           454.0   \n",
       "\n",
       "   True Shooting(%)  Threepoint Attempt rate  Free throw attempt rate  \\\n",
       "0             0.599                    0.000                    0.541   \n",
       "1             0.125                    0.250                    0.000   \n",
       "2             0.592                      NaN                    0.397   \n",
       "3             0.641                    0.015                    0.469   \n",
       "4             0.542                    0.298                    0.093   \n",
       "5             0.000                    0.333                    0.000   \n",
       "6             0.502                    0.463                    0.170   \n",
       "7             0.630                    0.721                    0.264   \n",
       "\n",
       "   Player Efficiency Rating  \n",
       "0                      15.1  \n",
       "1                      -6.9  \n",
       "2                      15.9  \n",
       "3                      22.7  \n",
       "4                      15.2  \n",
       "5                     -11.9  \n",
       "6                      12.0  \n",
       "7                      14.0  "
      ]
     },
     "execution_count": 7,
     "metadata": {},
     "output_type": "execute_result"
    }
   ],
   "source": [
    "df.head(8)"
   ]
  },
  {
   "cell_type": "code",
   "execution_count": 8,
   "id": "d4603ef1-e7a8-4736-a25c-188bad31abe8",
   "metadata": {},
   "outputs": [
    {
     "data": {
      "text/html": [
       "<div>\n",
       "<style scoped>\n",
       "    .dataframe tbody tr th:only-of-type {\n",
       "        vertical-align: middle;\n",
       "    }\n",
       "\n",
       "    .dataframe tbody tr th {\n",
       "        vertical-align: top;\n",
       "    }\n",
       "\n",
       "    .dataframe thead th {\n",
       "        text-align: right;\n",
       "    }\n",
       "</style>\n",
       "<table border=\"1\" class=\"dataframe\">\n",
       "  <thead>\n",
       "    <tr style=\"text-align: right;\">\n",
       "      <th></th>\n",
       "      <th>Player</th>\n",
       "      <th>Position</th>\n",
       "      <th>Age</th>\n",
       "      <th>Games</th>\n",
       "      <th>Minutes Played</th>\n",
       "      <th>True Shooting(%)</th>\n",
       "      <th>Threepoint Attempt rate</th>\n",
       "      <th>Free throw attempt rate</th>\n",
       "      <th>Player Efficiency Rating</th>\n",
       "    </tr>\n",
       "  </thead>\n",
       "  <tbody>\n",
       "    <tr>\n",
       "      <th>489</th>\n",
       "      <td>James Wiseman</td>\n",
       "      <td>C</td>\n",
       "      <td>19</td>\n",
       "      <td>20</td>\n",
       "      <td>419.0</td>\n",
       "      <td>0.548</td>\n",
       "      <td>0.113</td>\n",
       "      <td>0.313</td>\n",
       "      <td>15.1</td>\n",
       "    </tr>\n",
       "    <tr>\n",
       "      <th>490</th>\n",
       "      <td>Christian Wood</td>\n",
       "      <td>C</td>\n",
       "      <td>25</td>\n",
       "      <td>17</td>\n",
       "      <td>530.0</td>\n",
       "      <td>0.634</td>\n",
       "      <td>0.285</td>\n",
       "      <td>0.240</td>\n",
       "      <td>24.1</td>\n",
       "    </tr>\n",
       "    <tr>\n",
       "      <th>491</th>\n",
       "      <td>Robert Woodard</td>\n",
       "      <td>SF</td>\n",
       "      <td>21</td>\n",
       "      <td>6</td>\n",
       "      <td>17.0</td>\n",
       "      <td>0.547</td>\n",
       "      <td>0.273</td>\n",
       "      <td>0.182</td>\n",
       "      <td>22.9</td>\n",
       "    </tr>\n",
       "    <tr>\n",
       "      <th>492</th>\n",
       "      <td>Delon Wright</td>\n",
       "      <td>SG</td>\n",
       "      <td>28</td>\n",
       "      <td>28</td>\n",
       "      <td>823.0</td>\n",
       "      <td>0.559</td>\n",
       "      <td>0.298</td>\n",
       "      <td>0.346</td>\n",
       "      <td>16.6</td>\n",
       "    </tr>\n",
       "    <tr>\n",
       "      <th>493</th>\n",
       "      <td>Thaddeus Young</td>\n",
       "      <td>PF</td>\n",
       "      <td>32</td>\n",
       "      <td>23</td>\n",
       "      <td>592.0</td>\n",
       "      <td>0.597</td>\n",
       "      <td>0.104</td>\n",
       "      <td>0.169</td>\n",
       "      <td>18.5</td>\n",
       "    </tr>\n",
       "    <tr>\n",
       "      <th>494</th>\n",
       "      <td>Trae Young</td>\n",
       "      <td>PG</td>\n",
       "      <td>22</td>\n",
       "      <td>26</td>\n",
       "      <td>901.0</td>\n",
       "      <td>0.598</td>\n",
       "      <td>0.349</td>\n",
       "      <td>0.577</td>\n",
       "      <td>22.9</td>\n",
       "    </tr>\n",
       "    <tr>\n",
       "      <th>495</th>\n",
       "      <td>Cody Zeller</td>\n",
       "      <td>C</td>\n",
       "      <td>28</td>\n",
       "      <td>15</td>\n",
       "      <td>361.0</td>\n",
       "      <td>0.569</td>\n",
       "      <td>0.133</td>\n",
       "      <td>0.242</td>\n",
       "      <td>18.2</td>\n",
       "    </tr>\n",
       "    <tr>\n",
       "      <th>496</th>\n",
       "      <td>Ivica Zubac</td>\n",
       "      <td>C</td>\n",
       "      <td>23</td>\n",
       "      <td>30</td>\n",
       "      <td>586.0</td>\n",
       "      <td>0.722</td>\n",
       "      <td>0.007</td>\n",
       "      <td>0.500</td>\n",
       "      <td>20.5</td>\n",
       "    </tr>\n",
       "  </tbody>\n",
       "</table>\n",
       "</div>"
      ],
      "text/plain": [
       "             Player Position  Age  Games  Minutes Played  True Shooting(%)  \\\n",
       "489   James Wiseman        C   19     20           419.0             0.548   \n",
       "490  Christian Wood        C   25     17           530.0             0.634   \n",
       "491  Robert Woodard       SF   21      6            17.0             0.547   \n",
       "492    Delon Wright       SG   28     28           823.0             0.559   \n",
       "493  Thaddeus Young       PF   32     23           592.0             0.597   \n",
       "494      Trae Young       PG   22     26           901.0             0.598   \n",
       "495     Cody Zeller        C   28     15           361.0             0.569   \n",
       "496     Ivica Zubac        C   23     30           586.0             0.722   \n",
       "\n",
       "     Threepoint Attempt rate  Free throw attempt rate  \\\n",
       "489                    0.113                    0.313   \n",
       "490                    0.285                    0.240   \n",
       "491                    0.273                    0.182   \n",
       "492                    0.298                    0.346   \n",
       "493                    0.104                    0.169   \n",
       "494                    0.349                    0.577   \n",
       "495                    0.133                    0.242   \n",
       "496                    0.007                    0.500   \n",
       "\n",
       "     Player Efficiency Rating  \n",
       "489                      15.1  \n",
       "490                      24.1  \n",
       "491                      22.9  \n",
       "492                      16.6  \n",
       "493                      18.5  \n",
       "494                      22.9  \n",
       "495                      18.2  \n",
       "496                      20.5  "
      ]
     },
     "execution_count": 8,
     "metadata": {},
     "output_type": "execute_result"
    }
   ],
   "source": [
    "df.tail(8)"
   ]
  },
  {
   "cell_type": "code",
   "execution_count": 9,
   "id": "d9f949d8-bff0-4aef-907c-6417584f9ee7",
   "metadata": {},
   "outputs": [
    {
     "data": {
      "text/html": [
       "<div>\n",
       "<style scoped>\n",
       "    .dataframe tbody tr th:only-of-type {\n",
       "        vertical-align: middle;\n",
       "    }\n",
       "\n",
       "    .dataframe tbody tr th {\n",
       "        vertical-align: top;\n",
       "    }\n",
       "\n",
       "    .dataframe thead th {\n",
       "        text-align: right;\n",
       "    }\n",
       "</style>\n",
       "<table border=\"1\" class=\"dataframe\">\n",
       "  <thead>\n",
       "    <tr style=\"text-align: right;\">\n",
       "      <th></th>\n",
       "      <th>Player</th>\n",
       "      <th>Position</th>\n",
       "      <th>Age</th>\n",
       "      <th>Games</th>\n",
       "      <th>Minutes Played</th>\n",
       "      <th>True Shooting(%)</th>\n",
       "      <th>Threepoint Attempt rate</th>\n",
       "      <th>Free throw attempt rate</th>\n",
       "      <th>Player Efficiency Rating</th>\n",
       "    </tr>\n",
       "  </thead>\n",
       "  <tbody>\n",
       "    <tr>\n",
       "      <th>0</th>\n",
       "      <td>False</td>\n",
       "      <td>False</td>\n",
       "      <td>False</td>\n",
       "      <td>False</td>\n",
       "      <td>False</td>\n",
       "      <td>False</td>\n",
       "      <td>False</td>\n",
       "      <td>False</td>\n",
       "      <td>False</td>\n",
       "    </tr>\n",
       "    <tr>\n",
       "      <th>1</th>\n",
       "      <td>False</td>\n",
       "      <td>False</td>\n",
       "      <td>False</td>\n",
       "      <td>False</td>\n",
       "      <td>False</td>\n",
       "      <td>False</td>\n",
       "      <td>False</td>\n",
       "      <td>False</td>\n",
       "      <td>False</td>\n",
       "    </tr>\n",
       "    <tr>\n",
       "      <th>2</th>\n",
       "      <td>False</td>\n",
       "      <td>False</td>\n",
       "      <td>False</td>\n",
       "      <td>False</td>\n",
       "      <td>False</td>\n",
       "      <td>False</td>\n",
       "      <td>True</td>\n",
       "      <td>False</td>\n",
       "      <td>False</td>\n",
       "    </tr>\n",
       "    <tr>\n",
       "      <th>3</th>\n",
       "      <td>False</td>\n",
       "      <td>False</td>\n",
       "      <td>False</td>\n",
       "      <td>False</td>\n",
       "      <td>False</td>\n",
       "      <td>False</td>\n",
       "      <td>False</td>\n",
       "      <td>False</td>\n",
       "      <td>False</td>\n",
       "    </tr>\n",
       "    <tr>\n",
       "      <th>4</th>\n",
       "      <td>False</td>\n",
       "      <td>False</td>\n",
       "      <td>False</td>\n",
       "      <td>False</td>\n",
       "      <td>False</td>\n",
       "      <td>False</td>\n",
       "      <td>False</td>\n",
       "      <td>False</td>\n",
       "      <td>False</td>\n",
       "    </tr>\n",
       "    <tr>\n",
       "      <th>...</th>\n",
       "      <td>...</td>\n",
       "      <td>...</td>\n",
       "      <td>...</td>\n",
       "      <td>...</td>\n",
       "      <td>...</td>\n",
       "      <td>...</td>\n",
       "      <td>...</td>\n",
       "      <td>...</td>\n",
       "      <td>...</td>\n",
       "    </tr>\n",
       "    <tr>\n",
       "      <th>492</th>\n",
       "      <td>False</td>\n",
       "      <td>False</td>\n",
       "      <td>False</td>\n",
       "      <td>False</td>\n",
       "      <td>False</td>\n",
       "      <td>False</td>\n",
       "      <td>False</td>\n",
       "      <td>False</td>\n",
       "      <td>False</td>\n",
       "    </tr>\n",
       "    <tr>\n",
       "      <th>493</th>\n",
       "      <td>False</td>\n",
       "      <td>False</td>\n",
       "      <td>False</td>\n",
       "      <td>False</td>\n",
       "      <td>False</td>\n",
       "      <td>False</td>\n",
       "      <td>False</td>\n",
       "      <td>False</td>\n",
       "      <td>False</td>\n",
       "    </tr>\n",
       "    <tr>\n",
       "      <th>494</th>\n",
       "      <td>False</td>\n",
       "      <td>False</td>\n",
       "      <td>False</td>\n",
       "      <td>False</td>\n",
       "      <td>False</td>\n",
       "      <td>False</td>\n",
       "      <td>False</td>\n",
       "      <td>False</td>\n",
       "      <td>False</td>\n",
       "    </tr>\n",
       "    <tr>\n",
       "      <th>495</th>\n",
       "      <td>False</td>\n",
       "      <td>False</td>\n",
       "      <td>False</td>\n",
       "      <td>False</td>\n",
       "      <td>False</td>\n",
       "      <td>False</td>\n",
       "      <td>False</td>\n",
       "      <td>False</td>\n",
       "      <td>False</td>\n",
       "    </tr>\n",
       "    <tr>\n",
       "      <th>496</th>\n",
       "      <td>False</td>\n",
       "      <td>False</td>\n",
       "      <td>False</td>\n",
       "      <td>False</td>\n",
       "      <td>False</td>\n",
       "      <td>False</td>\n",
       "      <td>False</td>\n",
       "      <td>False</td>\n",
       "      <td>False</td>\n",
       "    </tr>\n",
       "  </tbody>\n",
       "</table>\n",
       "<p>497 rows × 9 columns</p>\n",
       "</div>"
      ],
      "text/plain": [
       "     Player  Position    Age  Games  Minutes Played  True Shooting(%)  \\\n",
       "0     False     False  False  False           False             False   \n",
       "1     False     False  False  False           False             False   \n",
       "2     False     False  False  False           False             False   \n",
       "3     False     False  False  False           False             False   \n",
       "4     False     False  False  False           False             False   \n",
       "..      ...       ...    ...    ...             ...               ...   \n",
       "492   False     False  False  False           False             False   \n",
       "493   False     False  False  False           False             False   \n",
       "494   False     False  False  False           False             False   \n",
       "495   False     False  False  False           False             False   \n",
       "496   False     False  False  False           False             False   \n",
       "\n",
       "     Threepoint Attempt rate  Free throw attempt rate  \\\n",
       "0                      False                    False   \n",
       "1                      False                    False   \n",
       "2                       True                    False   \n",
       "3                      False                    False   \n",
       "4                      False                    False   \n",
       "..                       ...                      ...   \n",
       "492                    False                    False   \n",
       "493                    False                    False   \n",
       "494                    False                    False   \n",
       "495                    False                    False   \n",
       "496                    False                    False   \n",
       "\n",
       "     Player Efficiency Rating  \n",
       "0                       False  \n",
       "1                       False  \n",
       "2                       False  \n",
       "3                       False  \n",
       "4                       False  \n",
       "..                        ...  \n",
       "492                     False  \n",
       "493                     False  \n",
       "494                     False  \n",
       "495                     False  \n",
       "496                     False  \n",
       "\n",
       "[497 rows x 9 columns]"
      ]
     },
     "execution_count": 9,
     "metadata": {},
     "output_type": "execute_result"
    }
   ],
   "source": [
    "df.isnull()"
   ]
  },
  {
   "cell_type": "code",
   "execution_count": 10,
   "id": "1b0dfd5c-a92c-4956-9e2c-b66d592e4660",
   "metadata": {},
   "outputs": [
    {
     "data": {
      "text/plain": [
       "True"
      ]
     },
     "execution_count": 10,
     "metadata": {},
     "output_type": "execute_result"
    }
   ],
   "source": [
    "df.isnull().values.any()"
   ]
  },
  {
   "cell_type": "code",
   "execution_count": 11,
   "id": "c9dbb1d9-d50c-4e5d-8fe0-eeb4859912c1",
   "metadata": {},
   "outputs": [
    {
     "data": {
      "text/plain": [
       "9"
      ]
     },
     "execution_count": 11,
     "metadata": {},
     "output_type": "execute_result"
    }
   ],
   "source": [
    "df.isnull().values.sum()"
   ]
  },
  {
   "cell_type": "code",
   "execution_count": 12,
   "id": "61a8045e-ee0b-44ae-b51c-92a885e0c990",
   "metadata": {},
   "outputs": [
    {
     "data": {
      "text/plain": [
       "Player                      0\n",
       "Position                    0\n",
       "Age                         0\n",
       "Games                       0\n",
       "Minutes Played              2\n",
       "True Shooting(%)            3\n",
       "Threepoint Attempt rate     2\n",
       "Free throw attempt rate     2\n",
       "Player Efficiency Rating    0\n",
       "dtype: int64"
      ]
     },
     "execution_count": 12,
     "metadata": {},
     "output_type": "execute_result"
    }
   ],
   "source": [
    "df.isnull().sum()"
   ]
  },
  {
   "cell_type": "code",
   "execution_count": 13,
   "id": "30d9739e-3a4a-484c-8db9-5435535db992",
   "metadata": {},
   "outputs": [],
   "source": [
    "df = df.dropna()"
   ]
  },
  {
   "cell_type": "code",
   "execution_count": 14,
   "id": "ad1ebdf8-576f-49eb-9069-ac876378d4bd",
   "metadata": {},
   "outputs": [
    {
     "data": {
      "text/plain": [
       "0"
      ]
     },
     "execution_count": 14,
     "metadata": {},
     "output_type": "execute_result"
    }
   ],
   "source": [
    "df.isnull().values.sum()"
   ]
  },
  {
   "cell_type": "code",
   "execution_count": 15,
   "id": "08f1d510-b993-453f-affe-372b87092ea1",
   "metadata": {},
   "outputs": [
    {
     "data": {
      "text/plain": [
       "Index(['Player', 'Position', 'Age', 'Games', 'Minutes Played',\n",
       "       'True Shooting(%)', 'Threepoint Attempt rate',\n",
       "       'Free throw attempt rate', 'Player Efficiency Rating'],\n",
       "      dtype='object')"
      ]
     },
     "execution_count": 15,
     "metadata": {},
     "output_type": "execute_result"
    }
   ],
   "source": [
    "df.columns"
   ]
  },
  {
   "cell_type": "code",
   "execution_count": 16,
   "id": "f8210bef-8384-4203-a17f-358f1d3eab81",
   "metadata": {},
   "outputs": [],
   "source": [
    "x = df.iloc[:,2:7]\n",
    "y = df.iloc[:,8]"
   ]
  },
  {
   "cell_type": "code",
   "execution_count": 17,
   "id": "03cc8158-0014-4309-b5e2-f1762ae11b94",
   "metadata": {},
   "outputs": [],
   "source": [
    "from sklearn.model_selection import train_test_split"
   ]
  },
  {
   "cell_type": "code",
   "execution_count": 18,
   "id": "d79ff0d1-974c-4fc1-8b52-2bfcd539f1d5",
   "metadata": {},
   "outputs": [],
   "source": [
    "x_train,x_test,y_train,y_test = train_test_split(x, y ,test_size=0.2,random_state=0)"
   ]
  },
  {
   "cell_type": "code",
   "execution_count": 19,
   "id": "a4987be2-7bc8-4ce0-bbc2-4f95f6e72736",
   "metadata": {},
   "outputs": [
    {
     "data": {
      "text/plain": [
       "(489, 5)"
      ]
     },
     "execution_count": 19,
     "metadata": {},
     "output_type": "execute_result"
    }
   ],
   "source": [
    "x.shape"
   ]
  },
  {
   "cell_type": "code",
   "execution_count": 20,
   "id": "60f867c9-ef66-48ed-b877-16f1bffbf49a",
   "metadata": {},
   "outputs": [
    {
     "data": {
      "text/plain": [
       "(489,)"
      ]
     },
     "execution_count": 20,
     "metadata": {},
     "output_type": "execute_result"
    }
   ],
   "source": [
    "y.shape"
   ]
  },
  {
   "cell_type": "code",
   "execution_count": 21,
   "id": "90a2e001-4701-4495-9127-17f9c793eac5",
   "metadata": {},
   "outputs": [
    {
     "data": {
      "text/plain": [
       "(391, 5)"
      ]
     },
     "execution_count": 21,
     "metadata": {},
     "output_type": "execute_result"
    }
   ],
   "source": [
    "x_train.shape"
   ]
  },
  {
   "cell_type": "code",
   "execution_count": 22,
   "id": "ce9478d7-4c37-4715-8c10-1e9c6c99e144",
   "metadata": {},
   "outputs": [
    {
     "data": {
      "text/plain": [
       "(98, 5)"
      ]
     },
     "execution_count": 22,
     "metadata": {},
     "output_type": "execute_result"
    }
   ],
   "source": [
    "x_test.shape"
   ]
  },
  {
   "cell_type": "code",
   "execution_count": 23,
   "id": "25a7d25d-c9ad-4860-af7d-05ee2878aa19",
   "metadata": {},
   "outputs": [
    {
     "data": {
      "text/plain": [
       "(391,)"
      ]
     },
     "execution_count": 23,
     "metadata": {},
     "output_type": "execute_result"
    }
   ],
   "source": [
    "y_train.shape"
   ]
  },
  {
   "cell_type": "code",
   "execution_count": 24,
   "id": "f6d6dd84-0f99-4834-8304-cd027faf79c5",
   "metadata": {},
   "outputs": [
    {
     "data": {
      "text/plain": [
       "(98,)"
      ]
     },
     "execution_count": 24,
     "metadata": {},
     "output_type": "execute_result"
    }
   ],
   "source": [
    "y_test.shape"
   ]
  },
  {
   "cell_type": "code",
   "execution_count": 25,
   "id": "db5640c2-7821-4459-a8df-4e61c638ecf0",
   "metadata": {},
   "outputs": [
    {
     "data": {
      "text/html": [
       "<div>\n",
       "<style scoped>\n",
       "    .dataframe tbody tr th:only-of-type {\n",
       "        vertical-align: middle;\n",
       "    }\n",
       "\n",
       "    .dataframe tbody tr th {\n",
       "        vertical-align: top;\n",
       "    }\n",
       "\n",
       "    .dataframe thead th {\n",
       "        text-align: right;\n",
       "    }\n",
       "</style>\n",
       "<table border=\"1\" class=\"dataframe\">\n",
       "  <thead>\n",
       "    <tr style=\"text-align: right;\">\n",
       "      <th></th>\n",
       "      <th>Age</th>\n",
       "      <th>Games</th>\n",
       "      <th>Minutes Played</th>\n",
       "      <th>True Shooting(%)</th>\n",
       "      <th>Threepoint Attempt rate</th>\n",
       "    </tr>\n",
       "  </thead>\n",
       "  <tbody>\n",
       "    <tr>\n",
       "      <th>18</th>\n",
       "      <td>23</td>\n",
       "      <td>18</td>\n",
       "      <td>619.0</td>\n",
       "      <td>0.632</td>\n",
       "      <td>0.548</td>\n",
       "    </tr>\n",
       "    <tr>\n",
       "      <th>258</th>\n",
       "      <td>25</td>\n",
       "      <td>29</td>\n",
       "      <td>724.0</td>\n",
       "      <td>0.546</td>\n",
       "      <td>0.482</td>\n",
       "    </tr>\n",
       "    <tr>\n",
       "      <th>150</th>\n",
       "      <td>22</td>\n",
       "      <td>23</td>\n",
       "      <td>330.0</td>\n",
       "      <td>0.689</td>\n",
       "      <td>0.000</td>\n",
       "    </tr>\n",
       "    <tr>\n",
       "      <th>400</th>\n",
       "      <td>22</td>\n",
       "      <td>27</td>\n",
       "      <td>778.0</td>\n",
       "      <td>0.647</td>\n",
       "      <td>0.000</td>\n",
       "    </tr>\n",
       "    <tr>\n",
       "      <th>98</th>\n",
       "      <td>23</td>\n",
       "      <td>28</td>\n",
       "      <td>884.0</td>\n",
       "      <td>0.635</td>\n",
       "      <td>0.261</td>\n",
       "    </tr>\n",
       "    <tr>\n",
       "      <th>...</th>\n",
       "      <td>...</td>\n",
       "      <td>...</td>\n",
       "      <td>...</td>\n",
       "      <td>...</td>\n",
       "      <td>...</td>\n",
       "    </tr>\n",
       "    <tr>\n",
       "      <th>451</th>\n",
       "      <td>25</td>\n",
       "      <td>9</td>\n",
       "      <td>298.0</td>\n",
       "      <td>0.633</td>\n",
       "      <td>0.309</td>\n",
       "    </tr>\n",
       "    <tr>\n",
       "      <th>254</th>\n",
       "      <td>25</td>\n",
       "      <td>6</td>\n",
       "      <td>43.0</td>\n",
       "      <td>0.302</td>\n",
       "      <td>0.786</td>\n",
       "    </tr>\n",
       "    <tr>\n",
       "      <th>308</th>\n",
       "      <td>24</td>\n",
       "      <td>17</td>\n",
       "      <td>310.0</td>\n",
       "      <td>0.459</td>\n",
       "      <td>0.255</td>\n",
       "    </tr>\n",
       "    <tr>\n",
       "      <th>493</th>\n",
       "      <td>32</td>\n",
       "      <td>23</td>\n",
       "      <td>592.0</td>\n",
       "      <td>0.597</td>\n",
       "      <td>0.104</td>\n",
       "    </tr>\n",
       "    <tr>\n",
       "      <th>179</th>\n",
       "      <td>19</td>\n",
       "      <td>21</td>\n",
       "      <td>180.0</td>\n",
       "      <td>0.473</td>\n",
       "      <td>0.340</td>\n",
       "    </tr>\n",
       "  </tbody>\n",
       "</table>\n",
       "<p>98 rows × 5 columns</p>\n",
       "</div>"
      ],
      "text/plain": [
       "     Age  Games  Minutes Played  True Shooting(%)  Threepoint Attempt rate\n",
       "18    23     18           619.0             0.632                    0.548\n",
       "258   25     29           724.0             0.546                    0.482\n",
       "150   22     23           330.0             0.689                    0.000\n",
       "400   22     27           778.0             0.647                    0.000\n",
       "98    23     28           884.0             0.635                    0.261\n",
       "..   ...    ...             ...               ...                      ...\n",
       "451   25      9           298.0             0.633                    0.309\n",
       "254   25      6            43.0             0.302                    0.786\n",
       "308   24     17           310.0             0.459                    0.255\n",
       "493   32     23           592.0             0.597                    0.104\n",
       "179   19     21           180.0             0.473                    0.340\n",
       "\n",
       "[98 rows x 5 columns]"
      ]
     },
     "execution_count": 25,
     "metadata": {},
     "output_type": "execute_result"
    }
   ],
   "source": [
    "x_test"
   ]
  },
  {
   "cell_type": "code",
   "execution_count": 26,
   "id": "6a82691a-6673-49cd-99c4-9002bc44bac1",
   "metadata": {},
   "outputs": [
    {
     "data": {
      "text/plain": [
       "18     14.7\n",
       "258    13.1\n",
       "150    17.6\n",
       "400    17.5\n",
       "98     19.3\n",
       "       ... \n",
       "451    23.9\n",
       "254     3.7\n",
       "308    13.1\n",
       "493    18.5\n",
       "179     7.3\n",
       "Name: Player Efficiency Rating, Length: 98, dtype: float64"
      ]
     },
     "execution_count": 26,
     "metadata": {},
     "output_type": "execute_result"
    }
   ],
   "source": [
    "y_test"
   ]
  },
  {
   "cell_type": "code",
   "execution_count": 27,
   "id": "a0eaa7d5-3218-4abe-aefd-310346af31bd",
   "metadata": {},
   "outputs": [],
   "source": [
    "from sklearn.linear_model import LinearRegression"
   ]
  },
  {
   "cell_type": "code",
   "execution_count": 28,
   "id": "1449e34b-ab47-4238-a398-2dbc802e1d23",
   "metadata": {},
   "outputs": [],
   "source": [
    "lm=LinearRegression()"
   ]
  },
  {
   "cell_type": "code",
   "execution_count": 29,
   "id": "10101b16-18c6-4edf-bdf1-8a731aa7bde2",
   "metadata": {},
   "outputs": [
    {
     "data": {
      "text/plain": [
       "LinearRegression()"
      ]
     },
     "execution_count": 29,
     "metadata": {},
     "output_type": "execute_result"
    }
   ],
   "source": [
    "lm.fit(x_train,y_train)"
   ]
  },
  {
   "cell_type": "code",
   "execution_count": 30,
   "id": "0fda31c5-8201-4474-8968-fd29054ca1b4",
   "metadata": {},
   "outputs": [],
   "source": [
    "y_pred=lm.predict(x_test)"
   ]
  },
  {
   "cell_type": "code",
   "execution_count": 31,
   "id": "42f004e9-2df9-4a06-955b-283cde85519f",
   "metadata": {},
   "outputs": [
    {
     "data": {
      "text/plain": [
       "array([16.55361024, 13.6914594 , 20.58874734, 22.63149001, 20.59101853,\n",
       "        9.49128916, 13.18967605, 10.61073042, 11.20791428, 14.18866604,\n",
       "       -8.71428804, 18.98036533, 16.40770645, 13.7504985 , 19.51447966,\n",
       "        1.90645042, -1.66033071, 12.27493706, -3.58854072, 19.03783572,\n",
       "        9.57631566,  7.68809471, 12.2443919 , 13.31063725, 18.44236006,\n",
       "       12.06898126,  1.13611972,  9.84852049, 12.97611297, 15.44336329,\n",
       "       16.17367061, -5.12711773, 20.58564209, 11.85654654,  5.69365003,\n",
       "       13.18675477, 16.04208628,  9.36540504, 14.49449892, 25.41417101,\n",
       "       17.74476294, 15.84356173,  3.57490534,  9.641982  , 12.35686402,\n",
       "       16.68700337, -3.36368379, 14.92159485,  8.83741406, 23.61170039,\n",
       "       10.60540633, 16.88963274,  7.80785125, 21.4269543 , 23.00872615,\n",
       "       14.39984767,  6.73441377, 13.64709797, 17.97272541, 23.25143906,\n",
       "       23.24252242,  6.44105527, 20.04177511,  7.55957111, 10.84145442,\n",
       "        8.60090617,  0.9739778 , 13.50464117, 17.09514462, 23.33852091,\n",
       "       -8.47796212, 19.0395747 , 12.71332838,  9.86470366, 10.69235196,\n",
       "        7.06604575, 10.78217476, 21.21927822,  7.88772307, 16.84413877,\n",
       "       17.82043177,  5.20334659, 17.50276257, 14.19184564, 13.26762102,\n",
       "       12.52134794, 14.66643165, 13.42560733, 12.22470185, 23.68679649,\n",
       "       11.04917425, 23.30369532, 16.49342053, 17.01750401, -1.63230074,\n",
       "       10.2641873 , 18.74046915,  8.25789636])"
      ]
     },
     "execution_count": 31,
     "metadata": {},
     "output_type": "execute_result"
    }
   ],
   "source": [
    "y_pred"
   ]
  },
  {
   "cell_type": "code",
   "execution_count": 32,
   "id": "71f62574-646b-4d6f-87ec-c784e1cd2d98",
   "metadata": {},
   "outputs": [],
   "source": [
    "from sklearn.metrics import r2_score"
   ]
  },
  {
   "cell_type": "code",
   "execution_count": 33,
   "id": "83ce9be3-b2dd-47bf-ab19-fb88ced0a4bf",
   "metadata": {},
   "outputs": [
    {
     "data": {
      "text/plain": [
       "0.6789957052054909"
      ]
     },
     "execution_count": 33,
     "metadata": {},
     "output_type": "execute_result"
    }
   ],
   "source": [
    "r2_score(y_test,y_pred)"
   ]
  },
  {
   "cell_type": "code",
   "execution_count": 34,
   "id": "c215101d-7f48-4eef-b448-ee7b2a5aa99b",
   "metadata": {},
   "outputs": [],
   "source": [
    "df1 = pd.DataFrame({'Actual Data':y_test, 'Predicted Data': y_pred})"
   ]
  },
  {
   "cell_type": "code",
   "execution_count": 35,
   "id": "7f98ec05-db65-4d69-8faf-c5d74e245e6b",
   "metadata": {},
   "outputs": [
    {
     "data": {
      "text/html": [
       "<div>\n",
       "<style scoped>\n",
       "    .dataframe tbody tr th:only-of-type {\n",
       "        vertical-align: middle;\n",
       "    }\n",
       "\n",
       "    .dataframe tbody tr th {\n",
       "        vertical-align: top;\n",
       "    }\n",
       "\n",
       "    .dataframe thead th {\n",
       "        text-align: right;\n",
       "    }\n",
       "</style>\n",
       "<table border=\"1\" class=\"dataframe\">\n",
       "  <thead>\n",
       "    <tr style=\"text-align: right;\">\n",
       "      <th></th>\n",
       "      <th>Actual Data</th>\n",
       "      <th>Predicted Data</th>\n",
       "    </tr>\n",
       "  </thead>\n",
       "  <tbody>\n",
       "    <tr>\n",
       "      <th>18</th>\n",
       "      <td>14.7</td>\n",
       "      <td>16.553610</td>\n",
       "    </tr>\n",
       "    <tr>\n",
       "      <th>258</th>\n",
       "      <td>13.1</td>\n",
       "      <td>13.691459</td>\n",
       "    </tr>\n",
       "    <tr>\n",
       "      <th>150</th>\n",
       "      <td>17.6</td>\n",
       "      <td>20.588747</td>\n",
       "    </tr>\n",
       "    <tr>\n",
       "      <th>400</th>\n",
       "      <td>17.5</td>\n",
       "      <td>22.631490</td>\n",
       "    </tr>\n",
       "    <tr>\n",
       "      <th>98</th>\n",
       "      <td>19.3</td>\n",
       "      <td>20.591019</td>\n",
       "    </tr>\n",
       "    <tr>\n",
       "      <th>...</th>\n",
       "      <td>...</td>\n",
       "      <td>...</td>\n",
       "    </tr>\n",
       "    <tr>\n",
       "      <th>451</th>\n",
       "      <td>23.9</td>\n",
       "      <td>17.017504</td>\n",
       "    </tr>\n",
       "    <tr>\n",
       "      <th>254</th>\n",
       "      <td>3.7</td>\n",
       "      <td>-1.632301</td>\n",
       "    </tr>\n",
       "    <tr>\n",
       "      <th>308</th>\n",
       "      <td>13.1</td>\n",
       "      <td>10.264187</td>\n",
       "    </tr>\n",
       "    <tr>\n",
       "      <th>493</th>\n",
       "      <td>18.5</td>\n",
       "      <td>18.740469</td>\n",
       "    </tr>\n",
       "    <tr>\n",
       "      <th>179</th>\n",
       "      <td>7.3</td>\n",
       "      <td>8.257896</td>\n",
       "    </tr>\n",
       "  </tbody>\n",
       "</table>\n",
       "<p>98 rows × 2 columns</p>\n",
       "</div>"
      ],
      "text/plain": [
       "     Actual Data  Predicted Data\n",
       "18          14.7       16.553610\n",
       "258         13.1       13.691459\n",
       "150         17.6       20.588747\n",
       "400         17.5       22.631490\n",
       "98          19.3       20.591019\n",
       "..           ...             ...\n",
       "451         23.9       17.017504\n",
       "254          3.7       -1.632301\n",
       "308         13.1       10.264187\n",
       "493         18.5       18.740469\n",
       "179          7.3        8.257896\n",
       "\n",
       "[98 rows x 2 columns]"
      ]
     },
     "execution_count": 35,
     "metadata": {},
     "output_type": "execute_result"
    }
   ],
   "source": [
    "df1"
   ]
  },
  {
   "cell_type": "code",
   "execution_count": 36,
   "id": "6fb15e75-c46c-4109-a6b9-087082c499bc",
   "metadata": {},
   "outputs": [
    {
     "data": {
      "text/html": [
       "<div>\n",
       "<style scoped>\n",
       "    .dataframe tbody tr th:only-of-type {\n",
       "        vertical-align: middle;\n",
       "    }\n",
       "\n",
       "    .dataframe tbody tr th {\n",
       "        vertical-align: top;\n",
       "    }\n",
       "\n",
       "    .dataframe thead th {\n",
       "        text-align: right;\n",
       "    }\n",
       "</style>\n",
       "<table border=\"1\" class=\"dataframe\">\n",
       "  <thead>\n",
       "    <tr style=\"text-align: right;\">\n",
       "      <th></th>\n",
       "      <th>Player</th>\n",
       "      <th>Position</th>\n",
       "      <th>Age</th>\n",
       "      <th>Games</th>\n",
       "      <th>Minutes Played</th>\n",
       "      <th>True Shooting(%)</th>\n",
       "      <th>Threepoint Attempt rate</th>\n",
       "      <th>Free throw attempt rate</th>\n",
       "      <th>Player Efficiency Rating</th>\n",
       "    </tr>\n",
       "  </thead>\n",
       "  <tbody>\n",
       "    <tr>\n",
       "      <th>0</th>\n",
       "      <td>Precious Achiuwa</td>\n",
       "      <td>PF</td>\n",
       "      <td>21</td>\n",
       "      <td>28</td>\n",
       "      <td>408.0</td>\n",
       "      <td>0.599</td>\n",
       "      <td>0.000</td>\n",
       "      <td>0.541</td>\n",
       "      <td>15.1</td>\n",
       "    </tr>\n",
       "    <tr>\n",
       "      <th>1</th>\n",
       "      <td>Jaylen Adams</td>\n",
       "      <td>PG</td>\n",
       "      <td>24</td>\n",
       "      <td>6</td>\n",
       "      <td>17.0</td>\n",
       "      <td>0.125</td>\n",
       "      <td>0.250</td>\n",
       "      <td>0.000</td>\n",
       "      <td>-6.9</td>\n",
       "    </tr>\n",
       "    <tr>\n",
       "      <th>3</th>\n",
       "      <td>Bam Adebayo</td>\n",
       "      <td>C</td>\n",
       "      <td>23</td>\n",
       "      <td>26</td>\n",
       "      <td>873.0</td>\n",
       "      <td>0.641</td>\n",
       "      <td>0.015</td>\n",
       "      <td>0.469</td>\n",
       "      <td>22.7</td>\n",
       "    </tr>\n",
       "    <tr>\n",
       "      <th>4</th>\n",
       "      <td>LaMarcus Aldridge</td>\n",
       "      <td>C</td>\n",
       "      <td>35</td>\n",
       "      <td>18</td>\n",
       "      <td>480.0</td>\n",
       "      <td>0.542</td>\n",
       "      <td>0.298</td>\n",
       "      <td>0.093</td>\n",
       "      <td>15.2</td>\n",
       "    </tr>\n",
       "    <tr>\n",
       "      <th>5</th>\n",
       "      <td>Ty-Shon Alexander</td>\n",
       "      <td>SG</td>\n",
       "      <td>22</td>\n",
       "      <td>3</td>\n",
       "      <td>8.0</td>\n",
       "      <td>0.000</td>\n",
       "      <td>0.333</td>\n",
       "      <td>0.000</td>\n",
       "      <td>-11.9</td>\n",
       "    </tr>\n",
       "    <tr>\n",
       "      <th>...</th>\n",
       "      <td>...</td>\n",
       "      <td>...</td>\n",
       "      <td>...</td>\n",
       "      <td>...</td>\n",
       "      <td>...</td>\n",
       "      <td>...</td>\n",
       "      <td>...</td>\n",
       "      <td>...</td>\n",
       "      <td>...</td>\n",
       "    </tr>\n",
       "    <tr>\n",
       "      <th>492</th>\n",
       "      <td>Delon Wright</td>\n",
       "      <td>SG</td>\n",
       "      <td>28</td>\n",
       "      <td>28</td>\n",
       "      <td>823.0</td>\n",
       "      <td>0.559</td>\n",
       "      <td>0.298</td>\n",
       "      <td>0.346</td>\n",
       "      <td>16.6</td>\n",
       "    </tr>\n",
       "    <tr>\n",
       "      <th>493</th>\n",
       "      <td>Thaddeus Young</td>\n",
       "      <td>PF</td>\n",
       "      <td>32</td>\n",
       "      <td>23</td>\n",
       "      <td>592.0</td>\n",
       "      <td>0.597</td>\n",
       "      <td>0.104</td>\n",
       "      <td>0.169</td>\n",
       "      <td>18.5</td>\n",
       "    </tr>\n",
       "    <tr>\n",
       "      <th>494</th>\n",
       "      <td>Trae Young</td>\n",
       "      <td>PG</td>\n",
       "      <td>22</td>\n",
       "      <td>26</td>\n",
       "      <td>901.0</td>\n",
       "      <td>0.598</td>\n",
       "      <td>0.349</td>\n",
       "      <td>0.577</td>\n",
       "      <td>22.9</td>\n",
       "    </tr>\n",
       "    <tr>\n",
       "      <th>495</th>\n",
       "      <td>Cody Zeller</td>\n",
       "      <td>C</td>\n",
       "      <td>28</td>\n",
       "      <td>15</td>\n",
       "      <td>361.0</td>\n",
       "      <td>0.569</td>\n",
       "      <td>0.133</td>\n",
       "      <td>0.242</td>\n",
       "      <td>18.2</td>\n",
       "    </tr>\n",
       "    <tr>\n",
       "      <th>496</th>\n",
       "      <td>Ivica Zubac</td>\n",
       "      <td>C</td>\n",
       "      <td>23</td>\n",
       "      <td>30</td>\n",
       "      <td>586.0</td>\n",
       "      <td>0.722</td>\n",
       "      <td>0.007</td>\n",
       "      <td>0.500</td>\n",
       "      <td>20.5</td>\n",
       "    </tr>\n",
       "  </tbody>\n",
       "</table>\n",
       "<p>489 rows × 9 columns</p>\n",
       "</div>"
      ],
      "text/plain": [
       "                Player Position  Age  Games  Minutes Played  True Shooting(%)  \\\n",
       "0     Precious Achiuwa       PF   21     28           408.0             0.599   \n",
       "1         Jaylen Adams       PG   24      6            17.0             0.125   \n",
       "3          Bam Adebayo        C   23     26           873.0             0.641   \n",
       "4    LaMarcus Aldridge        C   35     18           480.0             0.542   \n",
       "5    Ty-Shon Alexander       SG   22      3             8.0             0.000   \n",
       "..                 ...      ...  ...    ...             ...               ...   \n",
       "492       Delon Wright       SG   28     28           823.0             0.559   \n",
       "493     Thaddeus Young       PF   32     23           592.0             0.597   \n",
       "494         Trae Young       PG   22     26           901.0             0.598   \n",
       "495        Cody Zeller        C   28     15           361.0             0.569   \n",
       "496        Ivica Zubac        C   23     30           586.0             0.722   \n",
       "\n",
       "     Threepoint Attempt rate  Free throw attempt rate  \\\n",
       "0                      0.000                    0.541   \n",
       "1                      0.250                    0.000   \n",
       "3                      0.015                    0.469   \n",
       "4                      0.298                    0.093   \n",
       "5                      0.333                    0.000   \n",
       "..                       ...                      ...   \n",
       "492                    0.298                    0.346   \n",
       "493                    0.104                    0.169   \n",
       "494                    0.349                    0.577   \n",
       "495                    0.133                    0.242   \n",
       "496                    0.007                    0.500   \n",
       "\n",
       "     Player Efficiency Rating  \n",
       "0                        15.1  \n",
       "1                        -6.9  \n",
       "3                        22.7  \n",
       "4                        15.2  \n",
       "5                       -11.9  \n",
       "..                        ...  \n",
       "492                      16.6  \n",
       "493                      18.5  \n",
       "494                      22.9  \n",
       "495                      18.2  \n",
       "496                      20.5  \n",
       "\n",
       "[489 rows x 9 columns]"
      ]
     },
     "execution_count": 36,
     "metadata": {},
     "output_type": "execute_result"
    }
   ],
   "source": [
    "df"
   ]
  },
  {
   "cell_type": "code",
   "execution_count": 37,
   "id": "c86842e8-3c84-4d57-8f70-a675721a501a",
   "metadata": {},
   "outputs": [
    {
     "data": {
      "text/plain": [
       "<BarContainer object of 489 artists>"
      ]
     },
     "execution_count": 37,
     "metadata": {},
     "output_type": "execute_result"
    },
    {
     "data": {
      "image/png": "[encoded data removed]",
      "text/plain": [
       "<Figure size 432x288 with 1 Axes>"
      ]
     },
     "metadata": {
      "needs_background": "light"
     },
     "output_type": "display_data"
    }
   ],
   "source": [
    "plt.bar(df['Age'],df['Position'])"
   ]
  },
  {
   "cell_type": "code",
   "execution_count": 38,
   "id": "9e410d72-6e5e-445e-97fa-161df8cb9e03",
   "metadata": {},
   "outputs": [
    {
     "data": {
      "text/plain": [
       "<BarContainer object of 489 artists>"
      ]
     },
     "execution_count": 38,
     "metadata": {},
     "output_type": "execute_result"
    },
    {
     "data": {
      "image/png": "[encoded data removed]",
      "text/plain": [
       "<Figure size 432x288 with 1 Axes>"
      ]
     },
     "metadata": {
      "needs_background": "light"
     },
     "output_type": "display_data"
    }
   ],
   "source": [
    "plt.bar(df['Age'],df['Games'])"
   ]
  },
  {
   "cell_type": "code",
   "execution_count": 39,
   "id": "c8c5d445-34a6-4f0d-8be3-aa1ff0a03b88",
   "metadata": {},
   "outputs": [
    {
     "data": {
      "text/plain": [
       "[<matplotlib.lines.Line2D at 0x2ce12447820>]"
      ]
     },
     "execution_count": 39,
     "metadata": {},
     "output_type": "execute_result"
    },
    {
     "data": {
      "image/png": "[encoded data removed]",
      "text/plain": [
       "<Figure size 432x288 with 1 Axes>"
      ]
     },
     "metadata": {
      "needs_background": "light"
     },
     "output_type": "display_data"
    }
   ],
   "source": [
    "plt.plot(df['Age'],df['Games'])"
   ]
  },
  {
   "cell_type": "code",
   "execution_count": 40,
   "id": "907fdae3-9cf9-449a-b17d-e62201a4709d",
   "metadata": {},
   "outputs": [
    {
     "data": {
      "text/plain": [
       "[<matplotlib.lines.Line2D at 0x2ce124b9e20>]"
      ]
     },
     "execution_count": 40,
     "metadata": {},
     "output_type": "execute_result"
    },
    {
     "data": {
      "image/png": "[encoded data removed]",
      "text/plain": [
       "<Figure size 432x288 with 1 Axes>"
      ]
     },
     "metadata": {
      "needs_background": "light"
     },
     "output_type": "display_data"
    }
   ],
   "source": [
    "plt.plot(df['Age'],df['Player Efficiency Rating'])"
   ]
  },
  {
   "cell_type": "code",
   "execution_count": 41,
   "id": "d917681b-fabc-4843-b075-fc664a9c0204",
   "metadata": {},
   "outputs": [
    {
     "data": {
      "text/plain": [
       "<BarContainer object of 489 artists>"
      ]
     },
     "execution_count": 41,
     "metadata": {},
     "output_type": "execute_result"
    },
    {
     "data": {
      "image/png": "[encoded data removed]",
      "text/plain": [
       "<Figure size 432x288 with 1 Axes>"
      ]
     },
     "metadata": {
      "needs_background": "light"
     },
     "output_type": "display_data"
    }
   ],
   "source": [
    "plt.bar(df['Age'],df['Player Efficiency Rating'])"
   ]
  },
  {
   "cell_type": "code",
   "execution_count": 42,
   "id": "c59e899a-5435-4a34-bd5b-fbc6eede56db",
   "metadata": {},
   "outputs": [
    {
     "data": {
      "text/plain": [
       "<AxesSubplot:xlabel='Player Efficiency Rating', ylabel='Density'>"
      ]
     },
     "execution_count": 42,
     "metadata": {},
     "output_type": "execute_result"
    },
    {
     "data": {
      "image/png": "[encoded data removed]",
      "text/plain": [
       "<Figure size 432x288 with 1 Axes>"
      ]
     },
     "metadata": {
      "needs_background": "light"
     },
     "output_type": "display_data"
    }
   ],
   "source": [
    "sns.distplot(df['Player Efficiency Rating'])"
   ]
  },
  {
   "cell_type": "code",
   "execution_count": 43,
   "id": "79faa3d9-77ac-4080-8f58-3a45d75cc999",
   "metadata": {},
   "outputs": [
    {
     "data": {
      "text/plain": [
       "<AxesSubplot:xlabel='Minutes Played', ylabel='Player Efficiency Rating'>"
      ]
     },
     "execution_count": 43,
     "metadata": {},
     "output_type": "execute_result"
    },
    {
     "data": {
      "image/png": "[encoded data removed]",
      "text/plain": [
       "<Figure size 432x288 with 1 Axes>"
      ]
     },
     "metadata": {
      "needs_background": "light"
     },
     "output_type": "display_data"
    }
   ],
   "source": [
    "sns.regplot(x=df['Minutes Played'],y= df['Player Efficiency Rating'])"
   ]
  },
  {
   "cell_type": "code",
   "execution_count": null,
   "id": "27626e04-63b7-4354-ae5f-aeac02f861ac",
   "metadata": {},
   "outputs": [],
   "source": []
  }
 ],
 "metadata": {
  "kernelspec": {
   "display_name": "Python 3 (ipykernel)",
   "language": "python",
   "name": "python3"
  },
  "language_info": {
   "codemirror_mode": {
    "name": "ipython",
    "version": 3
   },
   "file_extension": ".py",
   "mimetype": "text/x-python",
   "name": "python",
   "nbconvert_exporter": "python",
   "pygments_lexer": "ipython3",
   "version": "3.9.7"
  }
 },
 "nbformat": 4,
 "nbformat_minor": 5
}
